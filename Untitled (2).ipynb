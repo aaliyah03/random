{
 "cells": [
  {
   "cell_type": "code",
   "execution_count": 28,
   "metadata": {},
   "outputs": [],
   "source": [
    "import pandas as pd\n",
    "import numpy as np\n",
    "import matplotlib.pyplot as plt\n",
    "%matplotlib inline\n",
    "from sklearn.neighbors import KNeighborsClassifier\n",
    "from sklearn.metrics import accuracy_score"
   ]
  },
  {
   "cell_type": "code",
   "execution_count": 29,
   "metadata": {},
   "outputs": [],
   "source": [
    "dataset= pd.read_csv(\"C:/Users/Aaliyah Ahmed/Downloads/train.csv\")\n",
    "testset= pd.read_csv(\"C:/Users/Aaliyah Ahmed/Downloads/test.csv\")"
   ]
  },
  {
   "cell_type": "code",
   "execution_count": 30,
   "metadata": {},
   "outputs": [],
   "source": [
    "dataset[\"Age\"] = dataset[\"Age\"].fillna(dataset[\"Age\"].median())"
   ]
  },
  {
   "cell_type": "code",
   "execution_count": 31,
   "metadata": {},
   "outputs": [],
   "source": [
    "testset[\"Age\"] = testset[\"Age\"].fillna(testset[\"Age\"].median())"
   ]
  },
  {
   "cell_type": "code",
   "execution_count": 32,
   "metadata": {},
   "outputs": [],
   "source": [
    "dataset.drop([\"SibSp\", \"Parch\"], axis=1, inplace=True)\n",
    "testset.drop([ \"SibSp\", \"Parch\"], axis=1, inplace=True)"
   ]
  },
  {
   "cell_type": "code",
   "execution_count": 34,
   "metadata": {},
   "outputs": [],
   "source": [
    "from sklearn.preprocessing import LabelEncoder\n",
    "labelEncoder_dataset = LabelEncoder()\n",
    "dataset.Sex=labelEncoder_dataset.fit_transform(dataset.Sex)"
   ]
  },
  {
   "cell_type": "code",
   "execution_count": 26,
   "metadata": {},
   "outputs": [
    {
     "name": "stdout",
     "output_type": "stream",
     "text": [
      "     Survived  Pclass  Sex   Age Embarked\n",
      "0           0       3    1  22.0        S\n",
      "1           1       1    0  38.0        C\n",
      "2           1       3    0  26.0        S\n",
      "3           1       1    0  35.0        S\n",
      "4           0       3    1  35.0        S\n",
      "5           0       3    1  28.0        Q\n",
      "6           0       1    1  54.0        S\n",
      "7           0       3    1   2.0        S\n",
      "8           1       3    0  27.0        S\n",
      "9           1       2    0  14.0        C\n",
      "10          1       3    0   4.0        S\n",
      "11          1       1    0  58.0        S\n",
      "12          0       3    1  20.0        S\n",
      "13          0       3    1  39.0        S\n",
      "14          0       3    0  14.0        S\n",
      "15          1       2    0  55.0        S\n",
      "16          0       3    1   2.0        Q\n",
      "17          1       2    1  28.0        S\n",
      "18          0       3    0  31.0        S\n",
      "19          1       3    0  28.0        C\n",
      "20          0       2    1  35.0        S\n",
      "21          1       2    1  34.0        S\n",
      "22          1       3    0  15.0        Q\n",
      "23          1       1    1  28.0        S\n",
      "24          0       3    0   8.0        S\n",
      "25          1       3    0  38.0        S\n",
      "26          0       3    1  28.0        C\n",
      "27          0       1    1  19.0        S\n",
      "28          1       3    0  28.0        Q\n",
      "29          0       3    1  28.0        S\n",
      "..        ...     ...  ...   ...      ...\n",
      "861         0       2    1  21.0        S\n",
      "862         1       1    0  48.0        S\n",
      "863         0       3    0  28.0        S\n",
      "864         0       2    1  24.0        S\n",
      "865         1       2    0  42.0        S\n",
      "866         1       2    0  27.0        C\n",
      "867         0       1    1  31.0        S\n",
      "868         0       3    1  28.0        S\n",
      "869         1       3    1   4.0        S\n",
      "870         0       3    1  26.0        S\n",
      "871         1       1    0  47.0        S\n",
      "872         0       1    1  33.0        S\n",
      "873         0       3    1  47.0        S\n",
      "874         1       2    0  28.0        C\n",
      "875         1       3    0  15.0        C\n",
      "876         0       3    1  20.0        S\n",
      "877         0       3    1  19.0        S\n",
      "878         0       3    1  28.0        S\n",
      "879         1       1    0  56.0        C\n",
      "880         1       2    0  25.0        S\n",
      "881         0       3    1  33.0        S\n",
      "882         0       3    0  22.0        S\n",
      "883         0       2    1  28.0        S\n",
      "884         0       3    1  25.0        S\n",
      "885         0       3    0  39.0        Q\n",
      "886         0       2    1  27.0        S\n",
      "887         1       1    0  19.0        S\n",
      "888         0       3    0  28.0        S\n",
      "889         1       1    1  26.0        C\n",
      "890         0       3    1  32.0        Q\n",
      "\n",
      "[891 rows x 5 columns]\n"
     ]
    }
   ],
   "source": [
    "print(dataset)"
   ]
  },
  {
   "cell_type": "code",
   "execution_count": 35,
   "metadata": {},
   "outputs": [
    {
     "name": "stdout",
     "output_type": "stream",
     "text": [
      "Percentage of Class 1 that survived: 63.0 %\n",
      "Percentage of Class 2 that survived: 47.0 %\n",
      "Percentage of Class 3 that survived: 24.0 %\n"
     ]
    },
    {
     "data": {
      "text/html": [
       "<div>\n",
       "<style scoped>\n",
       "    .dataframe tbody tr th:only-of-type {\n",
       "        vertical-align: middle;\n",
       "    }\n",
       "\n",
       "    .dataframe tbody tr th {\n",
       "        vertical-align: top;\n",
       "    }\n",
       "\n",
       "    .dataframe thead th {\n",
       "        text-align: right;\n",
       "    }\n",
       "</style>\n",
       "<table border=\"1\" class=\"dataframe\">\n",
       "  <thead>\n",
       "    <tr style=\"text-align: right;\">\n",
       "      <th></th>\n",
       "      <th>1</th>\n",
       "      <th>2</th>\n",
       "      <th>3</th>\n",
       "    </tr>\n",
       "  </thead>\n",
       "  <tbody>\n",
       "    <tr>\n",
       "      <th>Survived</th>\n",
       "      <td>136</td>\n",
       "      <td>87</td>\n",
       "      <td>119</td>\n",
       "    </tr>\n",
       "    <tr>\n",
       "      <th>Died</th>\n",
       "      <td>80</td>\n",
       "      <td>97</td>\n",
       "      <td>372</td>\n",
       "    </tr>\n",
       "  </tbody>\n",
       "</table>\n",
       "</div>"
      ],
      "text/plain": [
       "            1   2    3\n",
       "Survived  136  87  119\n",
       "Died       80  97  372"
      ]
     },
     "metadata": {},
     "output_type": "display_data"
    },
    {
     "data": {
      "image/png": "[encoded data removed]",
      "text/plain": [
       "<Figure size 360x216 with 1 Axes>"
      ]
     },
     "metadata": {},
     "output_type": "display_data"
    }
   ],
   "source": [
    "%matplotlib inline\n",
    "import seaborn\n",
    "seaborn.set() \n",
    "\n",
    "survived_class = dataset[dataset['Survived']==1]['Pclass'].value_counts()\n",
    "dead_class = dataset[dataset['Survived']==0]['Pclass'].value_counts()\n",
    "df_class = pd.DataFrame([survived_class,dead_class])\n",
    "df_class.index = ['Survived','Died']\n",
    "df_class.plot(kind='bar',stacked=True, figsize=(5,3), title=\"Survived/Died by Class\")\n",
    "\n",
    "Class1_survived= df_class.iloc[0,0]/df_class.iloc[:,0].sum()*100\n",
    "Class2_survived = df_class.iloc[0,1]/df_class.iloc[:,1].sum()*100\n",
    "Class3_survived = df_class.iloc[0,2]/df_class.iloc[:,2].sum()*100\n",
    "print(\"Percentage of Class 1 that survived:\" ,round(Class1_survived),\"%\")\n",
    "print(\"Percentage of Class 2 that survived:\" ,round(Class2_survived), \"%\")\n",
    "print(\"Percentage of Class 3 that survived:\" ,round(Class3_survived), \"%\")\n",
    "\n",
    "# display table\n",
    "from IPython.display import display\n",
    "display(df_class)"
   ]
  },
  {
   "cell_type": "code",
   "execution_count": 46,
   "metadata": {},
   "outputs": [],
   "source": [
    "dataset.loc[dataset[\"Embarked\"]==\"S\",\"Embarked\"] =0\n",
    "dataset.loc[dataset[\"Embarked\"]==\"C\",\"Embarked\"] =1\n",
    "dataset.loc[dataset[\"Embarked\"]==\"Q\",\"Embarked\"] =2"
   ]
  },
  {
   "cell_type": "code",
   "execution_count": 47,
   "metadata": {},
   "outputs": [],
   "source": [
    "testset.loc[testset[\"Embarked\"]==\"S\",\"Embarked\"] =0\n",
    "testset.loc[testset[\"Embarked\"]==\"C\",\"Embarked\"] =1\n",
    "testset.loc[testset[\"Embarked\"]==\"Q\",\"Embarked\"] =2"
   ]
  },
  {
   "cell_type": "code",
   "execution_count": 48,
   "metadata": {},
   "outputs": [],
   "source": [
    "dataset = dataset.drop('PassengerId',axis=1)\n",
    "dataset = dataset.drop('Name',axis=1)\n",
    "dataset = dataset.drop('Cabin',axis=1)\n",
    "dataset = dataset.drop('Fare',axis=1)\n",
    "dataset = dataset.drop('Ticket',axis=1)\n",
    "testset = testset.drop('Name',axis=1)\n",
    "testset = testset.drop('Cabin',axis=1)\n",
    "testset = testset.drop('Fare',axis=1)\n",
    "testset = testset.drop('Ticket',axis=1)"
   ]
  },
  {
   "cell_type": "code",
   "execution_count": 49,
   "metadata": {},
   "outputs": [
    {
     "name": "stdout",
     "output_type": "stream",
     "text": [
      "     Survived  Pclass  Sex   Age Embarked\n",
      "0           0       3    1  22.0        0\n",
      "1           1       1    0  38.0        1\n",
      "2           1       3    0  26.0        0\n",
      "3           1       1    0  35.0        0\n",
      "4           0       3    1  35.0        0\n",
      "5           0       3    1  28.0        2\n",
      "6           0       1    1  54.0        0\n",
      "7           0       3    1   2.0        0\n",
      "8           1       3    0  27.0        0\n",
      "9           1       2    0  14.0        1\n",
      "10          1       3    0   4.0        0\n",
      "11          1       1    0  58.0        0\n",
      "12          0       3    1  20.0        0\n",
      "13          0       3    1  39.0        0\n",
      "14          0       3    0  14.0        0\n",
      "15          1       2    0  55.0        0\n",
      "16          0       3    1   2.0        2\n",
      "17          1       2    1  28.0        0\n",
      "18          0       3    0  31.0        0\n",
      "19          1       3    0  28.0        1\n",
      "20          0       2    1  35.0        0\n",
      "21          1       2    1  34.0        0\n",
      "22          1       3    0  15.0        2\n",
      "23          1       1    1  28.0        0\n",
      "24          0       3    0   8.0        0\n",
      "25          1       3    0  38.0        0\n",
      "26          0       3    1  28.0        1\n",
      "27          0       1    1  19.0        0\n",
      "28          1       3    0  28.0        2\n",
      "29          0       3    1  28.0        0\n",
      "..        ...     ...  ...   ...      ...\n",
      "861         0       2    1  21.0        0\n",
      "862         1       1    0  48.0        0\n",
      "863         0       3    0  28.0        0\n",
      "864         0       2    1  24.0        0\n",
      "865         1       2    0  42.0        0\n",
      "866         1       2    0  27.0        1\n",
      "867         0       1    1  31.0        0\n",
      "868         0       3    1  28.0        0\n",
      "869         1       3    1   4.0        0\n",
      "870         0       3    1  26.0        0\n",
      "871         1       1    0  47.0        0\n",
      "872         0       1    1  33.0        0\n",
      "873         0       3    1  47.0        0\n",
      "874         1       2    0  28.0        1\n",
      "875         1       3    0  15.0        1\n",
      "876         0       3    1  20.0        0\n",
      "877         0       3    1  19.0        0\n",
      "878         0       3    1  28.0        0\n",
      "879         1       1    0  56.0        1\n",
      "880         1       2    0  25.0        0\n",
      "881         0       3    1  33.0        0\n",
      "882         0       3    0  22.0        0\n",
      "883         0       2    1  28.0        0\n",
      "884         0       3    1  25.0        0\n",
      "885         0       3    0  39.0        2\n",
      "886         0       2    1  27.0        0\n",
      "887         1       1    0  19.0        0\n",
      "888         0       3    0  28.0        0\n",
      "889         1       1    1  26.0        1\n",
      "890         0       3    1  32.0        2\n",
      "\n",
      "[891 rows x 5 columns]\n"
     ]
    }
   ],
   "source": [
    "print(dataset)"
   ]
  },
  {
   "cell_type": "code",
   "execution_count": 51,
   "metadata": {},
   "outputs": [],
   "source": [
    "labelEncoder_testset = LabelEncoder()\n",
    "testset.Sex=labelEncoder_testset.fit_transform(testset.Sex)"
   ]
  },
  {
   "cell_type": "code",
   "execution_count": 52,
   "metadata": {},
   "outputs": [
    {
     "name": "stdout",
     "output_type": "stream",
     "text": [
      "     PassengerId  Pclass  Sex   Age  Embarked\n",
      "0            892       3    1  34.5         2\n",
      "1            893       3    0  47.0         0\n",
      "2            894       2    1  62.0         2\n",
      "3            895       3    1  27.0         0\n",
      "4            896       3    0  22.0         0\n",
      "5            897       3    1  14.0         0\n",
      "6            898       3    0  30.0         2\n",
      "7            899       2    1  26.0         0\n",
      "8            900       3    0  18.0         1\n",
      "9            901       3    1  21.0         0\n",
      "10           902       3    1  27.0         0\n",
      "11           903       1    1  46.0         0\n",
      "12           904       1    0  23.0         0\n",
      "13           905       2    1  63.0         0\n",
      "14           906       1    0  47.0         0\n",
      "15           907       2    0  24.0         1\n",
      "16           908       2    1  35.0         2\n",
      "17           909       3    1  21.0         1\n",
      "18           910       3    0  27.0         0\n",
      "19           911       3    0  45.0         1\n",
      "20           912       1    1  55.0         1\n",
      "21           913       3    1   9.0         0\n",
      "22           914       1    0  27.0         0\n",
      "23           915       1    1  21.0         1\n",
      "24           916       1    0  48.0         1\n",
      "25           917       3    1  50.0         0\n",
      "26           918       1    0  22.0         1\n",
      "27           919       3    1  22.5         1\n",
      "28           920       1    1  41.0         0\n",
      "29           921       3    1  27.0         1\n",
      "..           ...     ...  ...   ...       ...\n",
      "388         1280       3    1  21.0         2\n",
      "389         1281       3    1   6.0         0\n",
      "390         1282       1    1  23.0         0\n",
      "391         1283       1    0  51.0         0\n",
      "392         1284       3    1  13.0         0\n",
      "393         1285       2    1  47.0         0\n",
      "394         1286       3    1  29.0         0\n",
      "395         1287       1    0  18.0         0\n",
      "396         1288       3    1  24.0         2\n",
      "397         1289       1    0  48.0         1\n",
      "398         1290       3    1  22.0         0\n",
      "399         1291       3    1  31.0         2\n",
      "400         1292       1    0  30.0         0\n",
      "401         1293       2    1  38.0         0\n",
      "402         1294       1    0  22.0         1\n",
      "403         1295       1    1  17.0         0\n",
      "404         1296       1    1  43.0         1\n",
      "405         1297       2    1  20.0         1\n",
      "406         1298       2    1  23.0         0\n",
      "407         1299       1    1  50.0         1\n",
      "408         1300       3    0  27.0         2\n",
      "409         1301       3    0   3.0         0\n",
      "410         1302       3    0  27.0         2\n",
      "411         1303       1    0  37.0         2\n",
      "412         1304       3    0  28.0         0\n",
      "413         1305       3    1  27.0         0\n",
      "414         1306       1    0  39.0         1\n",
      "415         1307       3    1  38.5         0\n",
      "416         1308       3    1  27.0         0\n",
      "417         1309       3    1  27.0         1\n",
      "\n",
      "[418 rows x 5 columns]\n"
     ]
    }
   ],
   "source": [
    "print(testset)"
   ]
  },
  {
   "cell_type": "code",
   "execution_count": null,
   "metadata": {},
   "outputs": [],
   "source": []
  }
 ],
 "metadata": {
  "kernelspec": {
   "display_name": "Python 3",
   "language": "python",
   "name": "python3"
  },
  "language_info": {
   "codemirror_mode": {
    "name": "ipython",
    "version": 3
   },
   "file_extension": ".py",
   "mimetype": "text/x-python",
   "name": "python",
   "nbconvert_exporter": "python",
   "pygments_lexer": "ipython3",
   "version": "3.6.5"
  }
 },
 "nbformat": 4,
 "nbformat_minor": 2
}
